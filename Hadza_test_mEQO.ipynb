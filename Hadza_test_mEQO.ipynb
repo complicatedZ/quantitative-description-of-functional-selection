{
 "cells": [
  {
   "cell_type": "code",
   "execution_count": 1,
   "metadata": {},
   "outputs": [],
   "source": [
    "import numpy as np\n",
    "import scipy.io as sio\n",
    "import os\n",
    "\n",
    "# Load the .mat files\n",
    "data = sio.loadmat('Hadza_converted.mat')"
   ]
  },
  {
   "cell_type": "code",
   "execution_count": 2,
   "metadata": {},
   "outputs": [],
   "source": [
    "genomes = np.array([gen_name[0] for gen_name in data['genomes'].flatten()])\n",
    "usamples = np.array([sample_name[0] for sample_name in data['usamples'].flatten()])\n",
    "relabus = data['relabus']\n",
    "kegg_per_genome = data['keggs_per_genome']"
   ]
  },
  {
   "cell_type": "code",
   "execution_count": 3,
   "metadata": {},
   "outputs": [],
   "source": [
    "inds2del = np.all(relabus <= 1e-6, axis=1)  # Identify rows with all values <= 1e-6\n",
    "relabus = relabus[~inds2del, :]  # Remove these rows from relabus\n",
    "genomes = genomes[~inds2del]\n",
    "G = kegg_per_genome > 0\n",
    "G = G[~inds2del, :]\n",
    "\n",
    "\n",
    "coverage_genome = np.any(kegg_per_genome>0, axis=1)\n",
    "\n",
    "\n",
    "coverage = np.sum(relabus[coverage_genome,:], axis=0)\n",
    "inds2del = coverage < 0.8\n",
    "relabus = relabus[:,~inds2del]\n",
    "usamples = usamples[~inds2del]\n",
    "\n",
    "relabus = relabus[coverage_genome,:]\n",
    "genomes = genomes[coverage_genome]\n",
    "\n",
    "relabus = np.nan_to_num(relabus)  # Replace NaNs with 0\n",
    "relabus = relabus / np.sum(relabus, axis=0, keepdims=True)  # Normalize relabus\n",
    "\n",
    "keggs = np.array([i for i in range(0,int(data['max_ko_num']))]).T\n",
    "inds2del = np.sum(G, axis=0) == 0  # Identify columns in G where the sum is 0\n",
    "G = G[:, ~inds2del]  # Remove these columns from G\n",
    "keggs = keggs[~inds2del]  # Remove corresponding elements from keggs\n"
   ]
  },
  {
   "cell_type": "code",
   "execution_count": 4,
   "metadata": {},
   "outputs": [],
   "source": [
    "import numpy as np\n",
    "from scipy.stats import variation\n",
    "from geneticalgorithm import geneticalgorithm as ga\n",
    "def EQO_ga(pattern=None, M=None, y=None, pk=None, Nmax=None, amin=0, amax=1, maxIter=100, popSize=50, N_keep = False):\n",
    "    if y is None:\n",
    "        y = np.ones((M.shape[0],))\n",
    "        pattern = \"u\"\n",
    "    if pk is None:\n",
    "        pk = np.zeros((M.shape[1],))\n",
    "    if Nmax is None:\n",
    "        Nmax = M.shape[1]\n",
    "    \n",
    "    an = np.mean(M, axis=0)\n",
    "    m = M.shape[0]\n",
    "    n = M.shape[1]\n",
    "    if N_keep == True:\n",
    "        pen = 1000\n",
    "    else:\n",
    "        pen = np.sqrt(np.finfo(float).max)\n",
    "\n",
    "    def c0(x):\n",
    "        return 1 if np.min(x - pk) <0 else 0\n",
    "    \n",
    "    def c1(x):\n",
    "        return np.sum(x) - Nmax\n",
    "    \n",
    "    def c2(x):\n",
    "        return amin - np.dot(an, x)\n",
    "    \n",
    "    def c3(x):\n",
    "        return np.dot(an, x) - amax\n",
    "    \n",
    "    def c4(x):\n",
    "        return abs(np.sum(x) - Nmax)\n",
    "    \n",
    "    if pattern == \"c\":\n",
    "        def fitness(x):\n",
    "            M0 = M - np.mean(M, axis=0)\n",
    "            y0 = y - np.mean(y)\n",
    "            P = np.dot(M0.T, M0)\n",
    "            Q2 = np.dot(M0.T, y0)\n",
    "            if N_keep == True:\n",
    "                return -(np.dot(x.T, Q2) / np.sqrt(np.dot(np.dot(x.T, P), x)) - pen * max(c4(x), 0) - pen * c0(x))\n",
    "            else:\n",
    "                 return -(np.dot(x.T, Q2) / np.sqrt(np.dot(np.dot(x.T, P), x)) - pen * max(c1(x), 0) - pen * c0(x))\n",
    "    \n",
    "    \n",
    "    elif pattern == \"d\":\n",
    "        def fitness(x):\n",
    "            M0 = M - np.mean(M, axis=0)\n",
    "            y0 = y # in here, y is a m*c matrix where c reprensents number of clusters \n",
    "            L = np.diag(1 / np.sqrt(np.sum(y0, axis=0)))\n",
    "            P = np.dot(M0.T, M0)\n",
    "            Q = np.dot(np.dot(M0.T, y0), L) @ np.dot(L, y0.T) @ M0\n",
    "            if N_keep == True:\n",
    "                return -(np.dot(np.dot(x.T, Q), x) / np.dot(np.dot(x.T, P), x) - pen * max(c4(x), 0) - pen * c0(x))\n",
    "            else:\n",
    "                return -(np.dot(np.dot(x.T, Q), x) / np.dot(np.dot(x.T, P), x) - pen * max(c1(x), 0) - pen * c0(x))\n",
    "    \n",
    "    elif pattern == \"u\":\n",
    "        def fitness(x):\n",
    "            M0 = M\n",
    "            e = np.ones((m, 1))\n",
    "            P = np.dot(M0.T, M0) - ((2 / n) * np.dot(np.dot(M0.T, e), np.dot(e.T, M0))) + ((1 / (n ** 2)) * np.dot(np.dot(np.dot(M0.T, e), e.T), np.dot(np.dot(e, e.T), M0)))\n",
    "            Q = np.dot(np.dot(M0.T, e), np.dot(e.T, M0))\n",
    "            return -(np.dot(np.dot(x.T, Q), x) / np.dot(np.dot(x.T, P), x) - pen * max(c1(x), 0) - pen * max(c2(x), 0) - pen * max(c3(x), 0) - pen * c0(x))\n",
    "\n",
    "\n",
    "    algorithm = ga(function=fitness, dimension=n, variable_type='bool', variable_boundaries=[(0, 1)]*n, \n",
    "                                        algorithm_parameters={'max_num_iteration':maxIter,\\\n",
    "                                       'population_size':popSize,\\\n",
    "                                       'mutation_probability':0.1,\\\n",
    "                                       'elit_ratio': 0.01,\\\n",
    "                                       'crossover_probability': 0.5,\\\n",
    "                                       'parents_portion': 0.3,\\\n",
    "                                       'crossover_type':'uniform',\\\n",
    "                                       'max_iteration_without_improv':None})\n",
    "    algorithm.run()\n",
    "    x = algorithm.output_dict['variable']\n",
    "    fitness_val = algorithm.output_dict['function']\n",
    "    \n",
    "    if pattern == \"c\":\n",
    "        members = np.array([col for col, val in zip(M.T, x) if val == 1])\n",
    "        abundance = np.sum(np.hstack((np.zeros((m, 2)), M[:, x == 1])), axis=1)\n",
    "        performance = np.corrcoef(abundance, y)[0, 1]\n",
    "        return {'fitness': fitness_val, 'x': x, 'members': members, 'abundance': abundance, 'performance': performance}\n",
    "    \n",
    "    elif pattern == \"d\":\n",
    "        solution1 = algorithm.output_dict['variable']\n",
    "        members = np.array([col for col, val in zip(M.T, solution1) if val == 1])\n",
    "        abundance = np.sum(np.hstack((np.zeros((m, 2)), M[:, solution1 == 1])), axis=1)\n",
    "        s = abundance - np.mean(abundance)\n",
    "\n",
    "        y0 = y # in here, y is a m*c matrix where c reprensents number of clusters\n",
    "        L = np.diag(1 / np.sqrt(np.sum(y0, axis=0)))\n",
    "        \n",
    "        R2 = np.dot(np.dot(s.T, y), L) @ np.dot(L, y.T) @ s / np.dot(s.T, s)\n",
    "        return {'fitness': fitness_val, 'x': solution1, 'members': members, 'abundance': abundance, 'performance': R2}\n",
    "    \n",
    "    elif pattern == \"u\":\n",
    "        members = np.array([col for col, val in zip(M.T, x) if val == 1])\n",
    "        abundance = np.sum(np.hstack((np.zeros((m, 2)), M[:, x == 1])), axis=1)\n",
    "        CV = variation(abundance)\n",
    "        return {'fitness': fitness_val, 'x': x, 'members': members, 'abundance': abundance, 'performance': CV}\n"
   ]
  },
  {
   "cell_type": "code",
   "execution_count": 5,
   "metadata": {},
   "outputs": [],
   "source": [
    "group_m = np.zeros((len(usamples), 3))\n",
    "for i, name in enumerate(usamples):\n",
    "    samp_name = name.split('_')[0]\n",
    "    if samp_name == 'Hadza':\n",
    "        group_m[i][0] = 1\n",
    "    elif samp_name == 'Nepal':\n",
    "        group_m[i][1] = 1\n",
    "    elif samp_name == 'Pilot':\n",
    "        group_m[i][2] = 1"
   ]
  },
  {
   "cell_type": "code",
   "execution_count": 6,
   "metadata": {},
   "outputs": [
    {
     "name": "stdout",
     "output_type": "stream",
     "text": [
      " The best solution found:                                                                           \n",
      " [0. 1. 1. ... 0. 0. 1.]\n",
      "\n",
      " Objective function:\n",
      " -0.5072468797001884\n"
     ]
    },
    {
     "data": {
      "image/png": "[encoded data removed]",
      "text/plain": [
       "<Figure size 640x480 with 1 Axes>"
      ]
     },
     "metadata": {},
     "output_type": "display_data"
    }
   ],
   "source": [
    "result = EQO_ga(M=relabus.T,y=group_m, pattern='d',maxIter=1500, popSize=100)"
   ]
  }
 ],
 "metadata": {
  "kernelspec": {
   "display_name": "function_xys",
   "language": "python",
   "name": "python3"
  },
  "language_info": {
   "codemirror_mode": {
    "name": "ipython",
    "version": 3
   },
   "file_extension": ".py",
   "mimetype": "text/x-python",
   "name": "python",
   "nbconvert_exporter": "python",
   "pygments_lexer": "ipython3",
   "version": "3.8.19"
  }
 },
 "nbformat": 4,
 "nbformat_minor": 2
}

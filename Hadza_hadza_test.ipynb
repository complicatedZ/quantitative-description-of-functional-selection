{
 "cells": [
  {
   "cell_type": "code",
   "execution_count": 1,
   "metadata": {},
   "outputs": [],
   "source": [
    "import numpy as np\n",
    "import scipy.io as sio\n",
    "import os\n",
    "\n",
    "# Load the .mat files\n",
    "data = sio.loadmat('Hadza_converted.mat')"
   ]
  },
  {
   "cell_type": "code",
   "execution_count": 26,
   "metadata": {},
   "outputs": [],
   "source": [
    "genomes = np.array([gen_name[0] for gen_name in data['genomes'].flatten()])\n",
    "usamples = np.array([sample_name[0] for sample_name in data['usamples'].flatten()])\n",
    "relabus = data['relabus']\n",
    "kegg_per_genome = data['keggs_per_genome']"
   ]
  },
  {
   "cell_type": "code",
   "execution_count": 27,
   "metadata": {},
   "outputs": [],
   "source": [
    "inds2del = np.all(relabus <= 1e-6, axis=1)  # Identify rows with all values <= 1e-6\n",
    "relabus = relabus[~inds2del, :]  # Remove these rows from relabus\n",
    "G = kegg_per_genome > 0\n",
    "G = G[~inds2del, :]\n",
    "\n",
    "# samples filter\n",
    "coverage_genome = np.any(kegg_per_genome>0, axis=1)\n",
    "coverage = np.sum(relabus[coverage_genome,:], axis=0)\n",
    "inds2del = coverage < 0.8\n",
    "relabus = relabus[:,~inds2del]\n",
    "usamples = usamples[~inds2del]\n",
    "\n",
    "\n",
    "relabus = relabus[coverage_genome,:]\n",
    "G = G[coverage_genome,:]\n",
    "\n",
    "relabus = np.nan_to_num(relabus)  # Replace NaNs with 0\n",
    "relabus = relabus / np.sum(relabus, axis=0, keepdims=True)  # Normalize relabus\n",
    "\n",
    "keggs = np.array([i for i in range(0,int(data['max_ko_num']))]).T\n",
    "inds2del = np.sum(G, axis=0) == 0  # Identify columns in G where the sum is 0\n",
    "G = G[:, ~inds2del]  # Remove these columns from G\n",
    "keggs = keggs[~inds2del]  # Remove corresponding elements from keggs\n",
    "\n",
    "\n"
   ]
  },
  {
   "cell_type": "code",
   "execution_count": 28,
   "metadata": {},
   "outputs": [],
   "source": [
    "group_m = np.zeros(len(usamples)).astype(int)\n",
    "for i, name in enumerate(usamples):\n",
    "    samp_name = name.split('_')[0]\n",
    "    if samp_name == 'Hadza':\n",
    "        group_m[i]=1\n",
    "relabus = relabus[:,group_m>0]\n"
   ]
  },
  {
   "cell_type": "code",
   "execution_count": 29,
   "metadata": {},
   "outputs": [
    {
     "data": {
      "text/plain": [
       "(3722, 324)"
      ]
     },
     "execution_count": 29,
     "metadata": {},
     "output_type": "execute_result"
    }
   ],
   "source": [
    "relabus.shape"
   ]
  },
  {
   "cell_type": "code",
   "execution_count": 30,
   "metadata": {},
   "outputs": [
    {
     "name": "stdout",
     "output_type": "stream",
     "text": [
      "KEGGs\\M00001.txt\n",
      "KEGGs\\M00004.txt\n",
      "KEGGs\\M00009.txt\n",
      "KEGGs\\M00022.txt\n",
      "KEGGs\\M00023.txt\n",
      "KEGGs\\M00024.txt\n",
      "KEGGs\\M00025.txt\n",
      "KEGGs\\M00049.txt\n",
      "KEGGs\\M00050.txt\n",
      "KEGGs\\M00051.txt\n",
      "KEGGs\\M00052.txt\n",
      "KEGGs\\M00115.txt\n",
      "KEGGs\\M00120.txt\n",
      "KEGGs\\M00127.txt\n",
      "KEGGs\\M00144.txt\n",
      "KEGGs\\M00958.txt\n",
      "KEGGs\\M00959.txt\n"
     ]
    }
   ],
   "source": [
    "import numpy as np\n",
    "import os\n",
    "\n",
    "G_orig = G.copy()  # Make a copy of G\n",
    "files = os.listdir('KEGGs')  # List all files in the KEGGs directory\n",
    "ko_all = []\n",
    "ko_all_inds = []\n",
    "\n",
    "# Loop through the files starting from the third file (index 2 in Python)\n",
    "for filenum in range(0, len(files)):\n",
    "    filename = os.path.join('KEGGs', files[filenum])\n",
    "    ko2look = []\n",
    "\n",
    "    # Open the file and read line by line\n",
    "    with open(filename, 'r') as fid:\n",
    "        for line in fid:\n",
    "            sthis = line.strip().split()[0] \n",
    "            ko2look.append(int(sthis[1:]))  \n",
    "\n",
    "    # ko2look: KO from each .txt\n",
    "    \n",
    "    \n",
    "    Mthis = len(ko2look)\n",
    "    inds2look = np.zeros(Mthis, dtype=int)\n",
    "\n",
    "    # Find indices in keggs that match the ko2look values\n",
    "    for j in range(Mthis):\n",
    "        ind = np.where(keggs == ko2look[j])[0]\n",
    "        if ind.size > 0:\n",
    "            inds2look[j] = ind[0]\n",
    "\n",
    "    inds2look = inds2look[inds2look != 0]  # Remove zero entries\n",
    "\n",
    "\n",
    "    # Calculate the proportion of samples with G == 1\n",
    "    G = G_orig[:, inds2look]  # Select columns from G_orig\n",
    "    N, M = G.shape\n",
    "    ps = np.sum(G, axis=0) / N  # Calculate the proportion of samples with G == 1\n",
    "\n",
    "    if np.any(ps > 0.3):  # Check if any proportion is greater than 0.3\n",
    "        print(filename)\n",
    "\n",
    "    # Append the corresponding keggs values to ko_all\n",
    "    ko_all.append(keggs[inds2look[np.argmax(ps > 0.3)]])\n",
    "     # record keggs index for each keggs value\n",
    "    ko_all_inds.append([inds2look[np.argmax(ps > 0.3)]])\n",
    "   \n",
    "\n",
    "\n",
    "G = G_orig[:,np.array(ko_all_inds).flatten()]\n",
    "N, M = G.shape\n",
    "mx = np.mean(relabus, axis=1)\n",
    "\n",
    "\n",
    "dmx = np.zeros(M)\n",
    "for j in range(M):\n",
    "    dmx[j] = np.log10(np.mean(mx[G[:, j] == 1])) - np.log10(np.mean(mx[G[:, j] == 0]))\n",
    "dmx[dmx < -6] = -6\n",
    "\n",
    "ps = np.sum(G, axis=0) / N\n",
    "n1 = np.sum(G, axis=0)\n",
    "n1_orig = n1\n",
    "dm_origs = dmx \n"
   ]
  },
  {
   "cell_type": "code",
   "execution_count": 32,
   "metadata": {},
   "outputs": [
    {
     "data": {
      "text/plain": [
       "(30, 101)"
      ]
     },
     "execution_count": 32,
     "metadata": {},
     "output_type": "execute_result"
    }
   ],
   "source": [
    "import numpy as np\n",
    "import matplotlib.pyplot as plt\n",
    "\n",
    "# 设置要绘制的柱状图数目\n",
    "mm2plot = 30\n",
    "mm = relabus.shape[1]\n",
    "\n",
    "# 对 relabus 的行求和并按降序排序，获取排序后的索引\n",
    "sorted_inds_x = np.argsort(np.sum(relabus, axis=1))[::-1]\n",
    "\n",
    "# 随机选择 mm2plot 个索引进行绘制\n",
    "inds2plot = np.random.permutation(mm)[:mm2plot]\n",
    "\n",
    "# 设置 N_vis 的值\n",
    "N_vis = 100\n",
    "\n",
    "# 转置 relabus 并选择要绘制的部分\n",
    "xthis = relabus.T\n",
    "xthis = xthis[inds2plot, :][:, sorted_inds_x]\n",
    "\n",
    "# 合并第 N_vis+1 列及之后的所有列，并将结果存储在第 N_vis+1 列\n",
    "xthis[:, N_vis] = np.sum(xthis[:, N_vis:], axis=1)\n",
    "\n",
    "# 只保留前 N_vis+1 列\n",
    "xthis = xthis[:, :N_vis+1]\n",
    "\n",
    "xthis.shape"
   ]
  },
  {
   "cell_type": "code",
   "execution_count": 33,
   "metadata": {},
   "outputs": [
    {
     "data": {
      "image/png": "[encoded data removed]",
      "text/plain": [
       "<Figure size 1000x500 with 1 Axes>"
      ]
     },
     "metadata": {},
     "output_type": "display_data"
    }
   ],
   "source": [
    "import numpy as np\n",
    "import matplotlib.pyplot as plt\n",
    "\n",
    "# 假设 data 是一个形状为 (30, 101) 的二维数组\n",
    "data = xthis\n",
    "\n",
    "# 归一化数据，使得每列的和为1\n",
    "\n",
    "# 创建颜色映射对象，包含30种颜色\n",
    "colors = []\n",
    "colors.extend(plt.cm.tab20(np.linspace(0, 1, 20)))\n",
    "colors.extend(plt.cm.tab20b(np.linspace(0, 1, 20)))\n",
    "colors.extend(plt.cm.tab20c(np.linspace(0, 1, 20)))\n",
    "colors.extend(plt.cm.Set1(np.linspace(0, 1, 9)))\n",
    "colors.extend(plt.cm.Paired(np.linspace(0, 1, 12)))\n",
    "colors.extend(plt.cm.Set2(np.linspace(0, 1, 8)))\n",
    "colors.extend(plt.cm.Accent(np.linspace(0, 1, 8)))\n",
    "colors.extend(plt.cm.Set3(np.linspace(0, 1, 12)))\n",
    "colors = colors[:100]\n",
    "colors.append(([0,0,0,1]))  # 确保总共101种颜色\n",
    "\n",
    "# 创建堆叠柱状图\n",
    "fig, ax = plt.subplots()\n",
    "x = np.arange(30)  # x轴上的点\n",
    "bottom = np.zeros(30)  # 底部值的初始化\n",
    "\n",
    "# 绘制堆叠柱状图\n",
    "for i in range(101):\n",
    "    ax.bar(x, data[:, i], bottom=bottom, color=colors[i], edgecolor='none')\n",
    "    bottom += data[:, i]  # 更新底部值，使得下一个柱子在上一个柱子的顶部\n",
    "\n",
    "# 设置坐标轴和图形属性\n",
    "ax.set_xlim([-1, 30])\n",
    "ax.set_ylim([0, 1])\n",
    "ax.set_yticks([])\n",
    "ax.set_xticks([])\n",
    "ax.set_ylabel('x', fontsize=12, fontname='Arial')\n",
    "ax.set_xlabel('Community', fontsize=12, fontname='Arial')\n",
    "ax.tick_params(width=0.5, length=0.0)\n",
    "ax.minorticks_off()\n",
    "ax.tick_params(direction='out')\n",
    "fig.set_size_inches(10, 5) \n",
    "fig.tight_layout() \n",
    "\n",
    "# 显示图形\n",
    "plt.show()\n"
   ]
  },
  {
   "cell_type": "code",
   "execution_count": 34,
   "metadata": {},
   "outputs": [
    {
     "data": {
      "image/png": "[encoded data removed]",
      "text/plain": [
       "<Figure size 1000x500 with 1 Axes>"
      ]
     },
     "metadata": {},
     "output_type": "display_data"
    }
   ],
   "source": [
    "gs = np.dot(relabus.T, G).T\n",
    "# 排序数据并选择绘制部分\n",
    "gs = gs / np.sum(gs, axis=0, keepdims=True)\n",
    "sorted_inds_g = np.argsort(np.mean(gs, axis=1))[::-1]\n",
    "gs = gs[sorted_inds_g][:, :30]\n",
    "\n",
    "colors = []\n",
    "colors.extend(plt.cm.tab20(np.linspace(0, 1, 20)))\n",
    "colors.extend(plt.cm.tab20b(np.linspace(0, 1, 20)))\n",
    "colors.extend(plt.cm.tab20c(np.linspace(0, 1, 20)))\n",
    "colors.extend(plt.cm.Set1(np.linspace(0, 1, 9)))\n",
    "colors.extend(plt.cm.Paired(np.linspace(0, 1, 12)))\n",
    "colors.extend(plt.cm.Set2(np.linspace(0, 1, 8)))\n",
    "colors.extend(plt.cm.Accent(np.linspace(0, 1, 8)))\n",
    "colors.extend(plt.cm.Set3(np.linspace(0, 1, 12)))\n",
    "colors = colors[:100]\n",
    "\n",
    "# 创建图形和坐标轴\n",
    "fig, ax = plt.subplots()\n",
    "ax.set_position([0.1, 0.1, 0.8, 0.8])\n",
    "\n",
    "# 绘制堆叠柱状图\n",
    "x = np.arange(30)  # x轴上的点\n",
    "bottom = np.zeros(30)  # 底部值的初始化\n",
    "bh = []\n",
    "for i in range(gs.shape[0]):\n",
    "    b = ax.bar(x, gs[i], bottom=bottom, color=colors[i], edgecolor='none')\n",
    "    bh.append(b)\n",
    "    bottom += gs[i]  # 更新底部值，使得下一个柱子在上一个柱子的顶部\n",
    "\n",
    "ax.set_xlim([-1, 30])\n",
    "ax.set_ylim([0, 1])\n",
    "ax.set_yticks([])\n",
    "ax.set_xticks([])\n",
    "ax.set_ylabel('g', fontsize=12, fontname='Arial')\n",
    "ax.set_xlabel('Community', fontsize=12, fontname='Arial')\n",
    "ax.tick_params(width=0.5, length=0.0)\n",
    "ax.minorticks_off()\n",
    "ax.tick_params(direction='out')\n",
    "fig.set_size_inches(10, 5) \n",
    "fig.tight_layout() \n",
    "\n",
    "# 显示图形\n",
    "plt.show()"
   ]
  },
  {
   "cell_type": "code",
   "execution_count": 35,
   "metadata": {},
   "outputs": [],
   "source": [
    "import numpy as np\n",
    "import matplotlib.pyplot as plt\n",
    "\n",
    "\n",
    "plt.rcParams['font.family'] = 'Arial'\n",
    "\n",
    "def shuffle_matrix_rows(matrix):\n",
    "    # 对矩阵进行复制，防止原矩阵被修改\n",
    "    shuffled_matrix = np.copy(matrix)\n",
    "    # 对于矩阵中的每一行进行随机排列\n",
    "    for row in shuffled_matrix:\n",
    "        np.random.shuffle(row)\n",
    "    return shuffled_matrix\n",
    "\n",
    "\n",
    "def ConvertToG(G, relabus):\n",
    "    temp = np.dot(relabus.T, G).T\n",
    "    return temp / np.sum(temp, axis=0, keepdims=True)\n",
    "\n",
    "#一种相似度计算方法\n",
    "def CalculateBC(xthis, ythis):\n",
    "    return 1 - np.sum(np.minimum(xthis, ythis))\n",
    "\n",
    "# 计算每列与均值的相似度度量\n",
    "def CalculateDs(xs):\n",
    "    mm = xs.shape[1]\n",
    "    xm = np.mean(xs, axis=1, keepdims=True)\n",
    "    ds = np.zeros(mm)\n",
    "    for iii in range(mm):\n",
    "        ds[iii] = CalculateBC(xs[:, iii], xm.flatten())\n",
    "    return ds\n",
    "\n",
    "dg_orig = CalculateDs(ConvertToG(G, relabus))\n",
    "dg_m_orig = np.mean(dg_orig)\n",
    "\n",
    "# 模拟\n",
    "ns = int(1e4)\n",
    "\n",
    "dg_m_shfls = np.zeros(ns)\n",
    "for rep in range(ns):\n",
    "    # 随机按行打乱矩阵G\n",
    "    G_shuffled = G[np.random.permutation(N), :]\n",
    "    dg_m_shfls[rep] = np.mean(CalculateDs(ConvertToG(G_shuffled, relabus)))\n",
    "\n",
    "\n",
    "dg_m_shfls_row = np.zeros(ns)\n",
    "for rep in range(ns):\n",
    "    # 打乱每一行G的分布\n",
    "    G_shuffled = shuffle_matrix_rows(G)\n",
    "    dg_m_shfls_row[rep] = np.mean(CalculateDs(ConvertToG(G_shuffled, relabus)))\n",
    "\n",
    "#fig, ax = plt.subplots()\n",
    "\n",
    "dg_m_shfls_col = np.zeros(ns)\n",
    "for rep in range(ns):\n",
    "    # 打乱每一列G的分布\n",
    "    G_shuffled = shuffle_matrix_rows(G.T).T\n",
    "    dg_m_shfls_col[rep] = np.mean(CalculateDs(ConvertToG(G_shuffled, relabus)))\n",
    "\n",
    "\n"
   ]
  },
  {
   "cell_type": "code",
   "execution_count": 36,
   "metadata": {},
   "outputs": [
    {
     "data": {
      "image/png": "[encoded data removed]",
      "text/plain": [
       "<Figure size 1000x500 with 1 Axes>"
      ]
     },
     "metadata": {},
     "output_type": "display_data"
    }
   ],
   "source": [
    "# 可视化\n",
    "fig, ax = plt.subplots()\n",
    "dg_m_shfls = dg_m_shfls[~np.isnan(dg_m_shfls)]\n",
    "xthis = dg_m_shfls\n",
    "xmin = np.min(xthis)\n",
    "xmax = np.max(xthis)\n",
    "bins = np.linspace(xmin * 0.9, xmax * 1.1, 50)\n",
    "h = ax.hist(xthis, bins=bins, density=True, edgecolor='none', facecolor='grey',alpha=0.7, zorder=1)\n",
    "\n",
    "# 添加原始 dg 的直线\n",
    "ymax = np.max(h[0])\n",
    "ax.plot([dg_m_orig, dg_m_orig], [0, ymax * 1.1], '-', linewidth=1, color='red')\n",
    "ax.plot([np.mean(dg_m_shfls), np.mean(dg_m_shfls)], [0, ymax * 1.1], '-', linewidth=1, color='grey', zorder=5)\n",
    "\n",
    "xthis = dg_m_shfls_row\n",
    "xmin = np.min(xthis)\n",
    "xmax = np.max(xthis)\n",
    "bins = np.linspace(xmin * 0.9, xmax * 1.1, 50)\n",
    "h = ax.hist(xthis, bins=bins, density=True, facecolor='blue',alpha=0.5, zorder=1)\n",
    "ax.plot([np.mean(dg_m_shfls_row), np.mean(dg_m_shfls_row)], [0, ymax * 1.1], '-', linewidth=1, color='blue', zorder=5)\n",
    "\n",
    "dg_m_shfls_col = dg_m_shfls_col[~np.isnan(dg_m_shfls_col)]\n",
    "xthis = dg_m_shfls_col\n",
    "xmin = np.min(xthis)\n",
    "xmax = np.max(xthis)\n",
    "bins = np.linspace(xmin * 0.9, xmax * 1.1, 50)\n",
    "h = ax.hist(xthis, bins=bins, density=True, facecolor='green',alpha=0.5, zorder=1)\n",
    "ax.plot([np.mean(dg_m_shfls_col), np.mean(dg_m_shfls_col)], [0, ymax * 1.1], '-', linewidth=1, color='green', zorder=5)\n",
    "\n",
    "# 设置图形属性\n",
    "ax.set_ylim([0, ymax * 1.1])\n",
    "ax.set_yticks([])\n",
    "#ax.set_xlim([0.025, 0.175])\n",
    "#ax.set_xticks([0.05, 0.1, 0.15])\n",
    "ax.set_ylabel('PDF', fontsize=12, fontname='Arial')\n",
    "ax.set_xlabel('Variability', fontsize=12, fontname='Arial')\n",
    "ax.tick_params(width=0.5, length=0.0)\n",
    "ax.minorticks_off()\n",
    "ax.tick_params(direction='out')\n",
    "fig.set_size_inches(10, 5) \n",
    "fig.tight_layout() \n",
    "\n",
    "# 显示图形\n",
    "plt.show()"
   ]
  }
 ],
 "metadata": {
  "kernelspec": {
   "display_name": "function_xys",
   "language": "python",
   "name": "python3"
  },
  "language_info": {
   "codemirror_mode": {
    "name": "ipython",
    "version": 3
   },
   "file_extension": ".py",
   "mimetype": "text/x-python",
   "name": "python",
   "nbconvert_exporter": "python",
   "pygments_lexer": "ipython3",
   "version": "3.8.19"
  }
 },
 "nbformat": 4,
 "nbformat_minor": 2
}

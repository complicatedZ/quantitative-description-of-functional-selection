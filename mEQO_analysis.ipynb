{
 "cells": [
  {
   "cell_type": "code",
   "execution_count": 9,
   "metadata": {},
   "outputs": [],
   "source": [
    "import numpy as np\n",
    "import scipy.io as sio\n",
    "import os\n",
    "import pandas as pd\n",
    "\n",
    "# Load the .mat files\n",
    "data = sio.loadmat('Hadza_w_name.mat')"
   ]
  },
  {
   "cell_type": "code",
   "execution_count": 57,
   "metadata": {},
   "outputs": [],
   "source": [
    "genomes = np.array([gen_name[0] for gen_name in data['genomes'].flatten()])\n",
    "usamples = np.array([sample_name[0] for sample_name in data['usamples'].flatten()])\n",
    "relabus = data['relabus']\n",
    "kegg_per_genome = data['keggs_per_genome']\n",
    "genome2name = data['genome2name']\n"
   ]
  },
  {
   "cell_type": "code",
   "execution_count": 58,
   "metadata": {},
   "outputs": [],
   "source": [
    "inds2del = np.all(relabus <= 1e-6, axis=1)  # Identify rows with all values <= 1e-6\n",
    "relabus = relabus[~inds2del, :]  # Remove these rows from relabus\n",
    "genomes = genomes[~inds2del]\n",
    "genome2name = genome2name[~inds2del,:]\n",
    "G = kegg_per_genome > 0\n",
    "G = G[~inds2del, :]\n",
    "\n",
    "\n",
    "coverage_genome = np.any(kegg_per_genome>0, axis=1)\n",
    "\n",
    "\n",
    "coverage = np.sum(relabus[coverage_genome,:], axis=0)\n",
    "inds2del = coverage < 0.8\n",
    "relabus = relabus[:,~inds2del]\n",
    "usamples = usamples[~inds2del]\n",
    "\n",
    "relabus = relabus[coverage_genome,:]\n",
    "genomes = genomes[coverage_genome]\n",
    "genome2name = genome2name[coverage_genome]\n",
    "\n",
    "relabus = np.nan_to_num(relabus)  # Replace NaNs with 0\n",
    "relabus = relabus / np.sum(relabus, axis=0, keepdims=True)  # Normalize relabus\n",
    "\n",
    "keggs = np.array([i for i in range(0,int(data['max_ko_num']))]).T\n",
    "inds2del = np.sum(G, axis=0) == 0  # Identify columns in G where the sum is 0\n",
    "G = G[:, ~inds2del]  # Remove these columns from G\n",
    "keggs = keggs[~inds2del]  # Remove corresponding elements from keggs\n"
   ]
  },
  {
   "cell_type": "code",
   "execution_count": 59,
   "metadata": {},
   "outputs": [],
   "source": [
    "mEQO_selected = pd.read_csv('temp.csv')\n",
    "mEQO_selected = np.array(mEQO_selected)[:,1]"
   ]
  },
  {
   "cell_type": "code",
   "execution_count": 62,
   "metadata": {},
   "outputs": [],
   "source": [
    "data2 = pd.read_csv('Vanish_Blossom.csv')"
   ]
  },
  {
   "cell_type": "code",
   "execution_count": 91,
   "metadata": {},
   "outputs": [],
   "source": [
    "Genome = np.array(data2['Genome']).astype(str)\n",
    "Van_bloss = np.array(data2['Special Taxa?']).astype(str)\n",
    "Van_bloss_percent = np.array(data2['Percentile Rank']).astype(float)"
   ]
  },
  {
   "cell_type": "code",
   "execution_count": 120,
   "metadata": {},
   "outputs": [
    {
     "data": {
      "text/plain": [
       "(array([], dtype=int64),)"
      ]
     },
     "execution_count": 120,
     "metadata": {},
     "output_type": "execute_result"
    }
   ],
   "source": [
    "np.where(Genome == genomes[2])"
   ]
  },
  {
   "cell_type": "code",
   "execution_count": 127,
   "metadata": {},
   "outputs": [],
   "source": [
    "import matplotlib.pyplot as plt\n",
    "percent = np.zeros(len(genomes))\n",
    "for i, name in enumerate(genomes):\n",
    "    inds = np.where(Genome == name)\n",
    "    if all(len(indices) == 0 for indices in inds) == True:\n",
    "        percent[i] = -200\n",
    "    else:\n",
    "        percent[i] = Van_bloss_percent[inds]"
   ]
  },
  {
   "cell_type": "code",
   "execution_count": 171,
   "metadata": {},
   "outputs": [],
   "source": [
    "pd.DataFrame(percent).to_csv('1.csv')"
   ]
  },
  {
   "cell_type": "code",
   "execution_count": 151,
   "metadata": {},
   "outputs": [
    {
     "data": {
      "image/png": "[encoded data removed]",
      "text/plain": [
       "<Figure size 1200x600 with 1 Axes>"
      ]
     },
     "metadata": {},
     "output_type": "display_data"
    }
   ],
   "source": [
    "plt.rcParams['font.family'] = 'Arial'\n",
    "bins = np.arange(-105, 105, 5)  # 每 5 个值分一组，范围从 -110 到 110\n",
    "\n",
    "# 统计每组中 y 为 0 和 y 为 1 的数量\n",
    "counts_0, _ = np.histogram(percent[mEQO_selected == 0], bins=bins)\n",
    "counts_1, _ = np.histogram(percent[mEQO_selected == 1], bins=bins)\n",
    "\n",
    "# 绘制堆叠柱状图\n",
    "plt.figure(figsize=(12, 6))\n",
    "\n",
    "# 绘制 y 为 0 的柱状图\n",
    "plt.bar(bins[:-1], counts_0, width=5, align='edge', label='y = 0')\n",
    "\n",
    "# 在 y 为 0 的柱状图上堆叠 y 为 1 的柱状图\n",
    "plt.bar(bins[:-1], counts_1, width=5, align='edge', bottom=counts_0, label='y = 1')\n",
    "\n",
    "# 设置 x 轴的范围\n",
    "plt.xlim(-110, 110)\n",
    "\n",
    "plt.xlabel('Percent Rank')\n",
    "plt.ylabel('Count')\n",
    "plt.legend()\n",
    "\n",
    "# 显示图形\n",
    "plt.show()"
   ]
  }
 ],
 "metadata": {
  "kernelspec": {
   "display_name": "function_xys",
   "language": "python",
   "name": "python3"
  },
  "language_info": {
   "codemirror_mode": {
    "name": "ipython",
    "version": 3
   },
   "file_extension": ".py",
   "mimetype": "text/x-python",
   "name": "python",
   "nbconvert_exporter": "python",
   "pygments_lexer": "ipython3",
   "version": "3.8.19"
  }
 },
 "nbformat": 4,
 "nbformat_minor": 2
}
